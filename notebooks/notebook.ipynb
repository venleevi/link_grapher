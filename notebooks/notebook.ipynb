{
 "cells": [
  {
   "cell_type": "code",
   "execution_count": 2,
   "outputs": [],
   "source": [
    "import networkx as nx\n",
    "import requests\n",
    "from bs4 import BeautifulSoup\n",
    "import re\n",
    "from dataclasses import dataclass\n",
    "import plotly.graph_objects as go\n",
    "import numpy as np"
   ],
   "metadata": {
    "collapsed": false,
    "pycharm": {
     "name": "#%%\n"
    }
   }
  },
  {
   "cell_type": "code",
   "execution_count": 12,
   "outputs": [],
   "source": [
    "node_trace = go.Scatter(x         = [],\n",
    "                        y         = [],\n",
    "                        text      = [],\n",
    "                        textposition = \"top center\",\n",
    "                        textfont_size = 10,\n",
    "                        mode      = 'markers+text',\n",
    "                        hoverinfo = 'none',\n",
    "                        marker    = dict(color = [],\n",
    "                                         size  = [],\n",
    "                                         line  = None))"
   ],
   "metadata": {
    "collapsed": false,
    "pycharm": {
     "name": "#%%\n"
    }
   }
  },
  {
   "cell_type": "code",
   "execution_count": 15,
   "outputs": [
    {
     "data": {
      "text/plain": "()"
     },
     "execution_count": 15,
     "metadata": {},
     "output_type": "execute_result"
    }
   ],
   "source": [
    "node_trace['x']"
   ],
   "metadata": {
    "collapsed": false,
    "pycharm": {
     "name": "#%%\n"
    }
   }
  },
  {
   "cell_type": "code",
   "execution_count": 63,
   "outputs": [],
   "source": [
    "G = nx.random_regular_graph(4,10)"
   ],
   "metadata": {
    "collapsed": false,
    "pycharm": {
     "name": "#%% NETWORKX TESTING\n"
    }
   }
  },
  {
   "cell_type": "code",
   "execution_count": 59,
   "outputs": [
    {
     "data": {
      "text/plain": "17"
     },
     "execution_count": 59,
     "metadata": {},
     "output_type": "execute_result"
    }
   ],
   "source": [
    "degrees = [val for (node, val) in G.degree()]\n",
    "max(degrees)"
   ],
   "metadata": {
    "collapsed": false,
    "pycharm": {
     "name": "#%%\n"
    }
   }
  },
  {
   "cell_type": "code",
   "execution_count": 64,
   "outputs": [
    {
     "data": {
      "text/plain": "{3: 2, 4: 2, 9: 2, 6: 3, 5: 2, 7: 2, 1: 2, 0: 2, 8: 3, 2: 2}"
     },
     "execution_count": 64,
     "metadata": {},
     "output_type": "execute_result"
    }
   ],
   "source": [
    "nx.eccentricity(G)"
   ],
   "metadata": {
    "collapsed": false,
    "pycharm": {
     "name": "#%%\n"
    }
   }
  },
  {
   "cell_type": "code",
   "execution_count": 159,
   "outputs": [
    {
     "name": "stdout",
     "output_type": "stream",
     "text": [
      "-0.002766216770661975 0.0013614006920036493\n"
     ]
    }
   ],
   "source": [
    "m = np.array(list(pos.values()))\n",
    "x, y = m[0,:]\n",
    "\n",
    "print(\"{} {}\".format(x,y))"
   ],
   "metadata": {
    "collapsed": false,
    "pycharm": {
     "name": "#%%\n"
    }
   }
  },
  {
   "cell_type": "code",
   "execution_count": 163,
   "outputs": [
    {
     "name": "stdout",
     "output_type": "stream",
     "text": [
      "-0.002766216770661975 0.0013614006920036493\n"
     ]
    }
   ],
   "source": [
    "x, y = pos[0]\n",
    "print(x,y)"
   ],
   "metadata": {
    "collapsed": false,
    "pycharm": {
     "name": "#%%\n"
    }
   }
  },
  {
   "cell_type": "code",
   "execution_count": 3,
   "outputs": [],
   "source": [
    "# Link to random wikipedia page:\n",
    "random_wiki = \"https://en.wikipedia.org/wiki/Special:Random\"\n",
    "base_url = \"https://en.wikipedia.org\"\n",
    "url = \"https://en.wikipedia.org/wiki/Henry_N._Jeter\"\n",
    "r = requests.get(url)\n",
    "\n",
    "soup = BeautifulSoup(r.text,'html.parser')\n",
    "#print(soup.prettify())"
   ],
   "metadata": {
    "collapsed": false,
    "pycharm": {
     "name": "#%%\n"
    }
   }
  },
  {
   "cell_type": "code",
   "execution_count": 75,
   "outputs": [
    {
     "name": "stdout",
     "output_type": "stream",
     "text": [
      "Charlotte County, Virginia\n",
      "Newport, Rhode Island\n",
      "Wayland Seminary\n",
      "Minister (Christianity)\n",
      "Republican Party (United States)\n",
      "Shiloh Church (Newport, Rhode Island)\n",
      "Emancipation Proclamation\n",
      "Lynchburg, Virginia\n",
      "Edmund Kelly\n",
      "National Afro-American League\n",
      "Philadelphia\n",
      "Guadalupe College\n",
      "Seguin, Texas\n",
      "Robert Heberton Terrell\n",
      "Union Army\n"
     ]
    }
   ],
   "source": [
    "res = soup.body.find_all('a', attrs={'href': True,            # Needs to contain a href attribute\n",
    "                               'title': True,           # Also a link\n",
    "                               'dir': False,            # We do not want ones with dir nor\n",
    "                               'accesskey': False},     # accesskey attributes.\n",
    "                   class_=None,                         # Should not have a class\n",
    "                   limit=100)\n",
    "\n",
    "# remove all that do not match \"/wiki/\" and does not contain \"Wikipedia:\" or \"Category:\" in it\n",
    "not_list = ['Wikipedia:', 'Category:', 'http', '//', 'Help:', 'Portal:']\n",
    "link_filter = lambda x: \"/wiki/\" in x['href'] and not any(i in x['href'] for i in not_list)\n",
    "\n",
    "res = list(filter(link_filter, res))\n",
    "\n",
    "for i in res:\n",
    "    print(i['title'])"
   ],
   "metadata": {
    "collapsed": false,
    "pycharm": {
     "name": "#%%\n"
    }
   }
  },
  {
   "cell_type": "code",
   "execution_count": 69,
   "outputs": [
    {
     "data": {
      "text/plain": "True"
     },
     "execution_count": 69,
     "metadata": {},
     "output_type": "execute_result"
    }
   ],
   "source": [
    "any(x in '/wiki/Category:1938_deaths' for x in not_list)"
   ],
   "metadata": {
    "collapsed": false,
    "pycharm": {
     "name": "#%%\n"
    }
   }
  },
  {
   "cell_type": "code",
   "execution_count": 97,
   "outputs": [
    {
     "name": "stdout",
     "output_type": "stream",
     "text": [
      "<a href=\"/wiki/Shiloh_Church_(Newport,_Rhode_Island)\" title=\"Shiloh Church (Newport, Rhode Island)\">Shiloh Baptist Church</a>\n",
      "<a class=\"mw-redirect\" href=\"/wiki/Confederate_Army\" title=\"Confederate Army\">Confederate Army</a>\n",
      "<a href=\"/wiki/Emancipation_Proclamation\" title=\"Emancipation Proclamation\">Emancipation Proclamation</a>\n",
      "<a href=\"/wiki/Lynchburg,_Virginia\" title=\"Lynchburg, Virginia\">Lynchburg, Virginia</a>\n",
      "<a href=\"/wiki/Edmund_Kelly\" title=\"Edmund Kelly\">Edmund Kelly</a>\n",
      "<a href=\"/wiki/National_Afro-American_League\" title=\"National Afro-American League\">National Afro-American League</a>\n",
      "<a href=\"/wiki/Philadelphia\" title=\"Philadelphia\">Philadelphia</a>\n",
      "<a href=\"/wiki/Guadalupe_College\" title=\"Guadalupe College\">Guadalupe College</a>\n",
      "<a href=\"/wiki/Seguin,_Texas\" title=\"Seguin, Texas\">Seguin, Texas</a>\n",
      "<a href=\"/wiki/Robert_Heberton_Terrell\" title=\"Robert Heberton Terrell\">Robert Heberton Terrell</a>\n"
     ]
    }
   ],
   "source": [
    "# Note: this is a CSS selector\n",
    "# links on the wikipedia page are inside <a> ... </a> tags\n",
    "# note a tag can have attributes, e.g. <a href=\"link\" title=\"SHIT\"> Hei moi </a>\n",
    "# note soup.select returns a 'ResultSet', attribute 'href' can be accessed as\n",
    "#       soup.select('a')[i]['href'] => this is the i:th a-tag's href attribute\n",
    "\n",
    "links = soup.select('p a[href]')\n",
    "for link in links:\n",
    "    if '/wiki/' in link['href']:\n",
    "        print(link)\n",
    "#links[0].get('href')"
   ],
   "metadata": {
    "collapsed": false,
    "pycharm": {
     "name": "#%%\n"
    }
   }
  },
  {
   "cell_type": "code",
   "execution_count": 90,
   "outputs": [
    {
     "data": {
      "text/plain": "True"
     },
     "execution_count": 90,
     "metadata": {},
     "output_type": "execute_result"
    }
   ],
   "source": [
    "'#cite' in links[2]['href']"
   ],
   "metadata": {
    "collapsed": false,
    "pycharm": {
     "name": "#%%\n"
    }
   }
  },
  {
   "cell_type": "code",
   "execution_count": 69,
   "outputs": [
    {
     "data": {
      "text/plain": "'/wiki/Charlotte_County,_Virginia'"
     },
     "execution_count": 69,
     "metadata": {},
     "output_type": "execute_result"
    }
   ],
   "source": [
    "soup.select('a')[4]['href']\n"
   ],
   "metadata": {
    "collapsed": false,
    "pycharm": {
     "name": "#%%\n"
    }
   }
  },
  {
   "cell_type": "code",
   "execution_count": 73,
   "outputs": [
    {
     "data": {
      "text/plain": "[]"
     },
     "execution_count": 73,
     "metadata": {},
     "output_type": "execute_result"
    }
   ],
   "source": [
    "links"
   ],
   "metadata": {
    "collapsed": false,
    "pycharm": {
     "name": "#%%\n"
    }
   }
  },
  {
   "cell_type": "code",
   "execution_count": 83,
   "outputs": [
    {
     "data": {
      "text/plain": "[<link href=\"//en.m.wikipedia.org/wiki/Henry_N._Jeter\" media=\"only screen and (max-width: 720px)\" rel=\"alternate\"/>,\n <link href=\"https://en.wikipedia.org/wiki/Henry_N._Jeter\" rel=\"canonical\"/>,\n <a class=\"image\" href=\"/wiki/File:Paster_Jeter_Shiloh_Baptist_Church.jpg\"><img alt=\"Paster Jeter Shiloh Baptist Church.jpg\" data-file-height=\"563\" data-file-width=\"432\" decoding=\"async\" height=\"287\" src=\"//upload.wikimedia.org/wikipedia/en/thumb/5/5d/Paster_Jeter_Shiloh_Baptist_Church.jpg/220px-Paster_Jeter_Shiloh_Baptist_Church.jpg\" srcset=\"//upload.wikimedia.org/wikipedia/en/thumb/5/5d/Paster_Jeter_Shiloh_Baptist_Church.jpg/330px-Paster_Jeter_Shiloh_Baptist_Church.jpg 1.5x, //upload.wikimedia.org/wikipedia/en/5/5d/Paster_Jeter_Shiloh_Baptist_Church.jpg 2x\" width=\"220\"/></a>,\n <a href=\"/wiki/Charlotte_County,_Virginia\" title=\"Charlotte County, Virginia\">Charlotte County, Virginia</a>,\n <a href=\"/wiki/Newport,_Rhode_Island\" title=\"Newport, Rhode Island\">Newport, Rhode Island</a>,\n <a href=\"/wiki/Wayland_Seminary\" title=\"Wayland Seminary\">Wayland Seminary</a>,\n <a href=\"/wiki/Minister_(Christianity)\" title=\"Minister (Christianity)\">Minister (Christianity)</a>,\n <a href=\"/wiki/Republican_Party_(United_States)\" title=\"Republican Party (United States)\">Republican</a>,\n <a class=\"mw-redirect\" href=\"/wiki/Baptist\" title=\"Baptist\">Baptist</a>,\n <a href=\"/wiki/Shiloh_Church_(Newport,_Rhode_Island)\" title=\"Shiloh Church (Newport, Rhode Island)\">Shiloh Baptist Church</a>,\n <a class=\"mw-redirect\" href=\"/wiki/Confederate_Army\" title=\"Confederate Army\">Confederate Army</a>,\n <a href=\"/wiki/Emancipation_Proclamation\" title=\"Emancipation Proclamation\">Emancipation Proclamation</a>,\n <a href=\"/wiki/Lynchburg,_Virginia\" title=\"Lynchburg, Virginia\">Lynchburg, Virginia</a>,\n <a href=\"/wiki/Edmund_Kelly\" title=\"Edmund Kelly\">Edmund Kelly</a>,\n <a class=\"image\" href=\"/wiki/File:H_N_Jeter.jpg\"><img alt=\"\" class=\"thumbimage\" data-file-height=\"1438\" data-file-width=\"1029\" decoding=\"async\" height=\"307\" src=\"//upload.wikimedia.org/wikipedia/commons/thumb/7/70/H_N_Jeter.jpg/220px-H_N_Jeter.jpg\" srcset=\"//upload.wikimedia.org/wikipedia/commons/thumb/7/70/H_N_Jeter.jpg/330px-H_N_Jeter.jpg 1.5x, //upload.wikimedia.org/wikipedia/commons/thumb/7/70/H_N_Jeter.jpg/440px-H_N_Jeter.jpg 2x\" width=\"220\"/></a>,\n <a class=\"internal\" href=\"/wiki/File:H_N_Jeter.jpg\" title=\"Enlarge\"></a>,\n <a href=\"/wiki/National_Afro-American_League\" title=\"National Afro-American League\">National Afro-American League</a>,\n <a href=\"/wiki/Philadelphia\" title=\"Philadelphia\">Philadelphia</a>,\n <a href=\"/wiki/Guadalupe_College\" title=\"Guadalupe College\">Guadalupe College</a>,\n <a href=\"/wiki/Seguin,_Texas\" title=\"Seguin, Texas\">Seguin, Texas</a>,\n <a href=\"/wiki/Robert_Heberton_Terrell\" title=\"Robert Heberton Terrell\">Robert Heberton Terrell</a>,\n <a class=\"image\" href=\"/wiki/File:Jeter_Family.jpg\"><img alt=\"\" class=\"thumbimage\" data-file-height=\"500\" data-file-width=\"645\" decoding=\"async\" height=\"171\" src=\"//upload.wikimedia.org/wikipedia/commons/thumb/0/08/Jeter_Family.jpg/220px-Jeter_Family.jpg\" srcset=\"//upload.wikimedia.org/wikipedia/commons/thumb/0/08/Jeter_Family.jpg/330px-Jeter_Family.jpg 1.5x, //upload.wikimedia.org/wikipedia/commons/thumb/0/08/Jeter_Family.jpg/440px-Jeter_Family.jpg 2x\" width=\"220\"/></a>,\n <a class=\"internal\" href=\"/wiki/File:Jeter_Family.jpg\" title=\"Enlarge\"></a>,\n <a href=\"/wiki/Union_Army\" title=\"Union Army\">Union soldier</a>,\n <a href=\"/wiki/Help:Authority_control\" title=\"Help:Authority control\">Authority control</a>,\n <a href=\"https://www.wikidata.org/wiki/Q27710186#identifiers\" title=\"Edit this at Wikidata\"><img alt=\"Edit this at Wikidata\" data-file-height=\"20\" data-file-width=\"20\" decoding=\"async\" height=\"10\" src=\"//upload.wikimedia.org/wikipedia/en/thumb/8/8a/OOjs_UI_icon_edit-ltr-progressive.svg/10px-OOjs_UI_icon_edit-ltr-progressive.svg.png\" srcset=\"//upload.wikimedia.org/wikipedia/en/thumb/8/8a/OOjs_UI_icon_edit-ltr-progressive.svg/15px-OOjs_UI_icon_edit-ltr-progressive.svg.png 1.5x, //upload.wikimedia.org/wikipedia/en/thumb/8/8a/OOjs_UI_icon_edit-ltr-progressive.svg/20px-OOjs_UI_icon_edit-ltr-progressive.svg.png 2x\" style=\"vertical-align: text-top\" width=\"10\"/></a>,\n <a class=\"mw-redirect\" href=\"/wiki/ISNI_(identifier)\" title=\"ISNI (identifier)\">ISNI</a>,\n <a class=\"mw-redirect\" href=\"/wiki/LCCN_(identifier)\" title=\"LCCN (identifier)\">LCCN</a>,\n <a class=\"mw-redirect\" href=\"/wiki/VIAF_(identifier)\" title=\"VIAF (identifier)\">VIAF</a>,\n <a class=\"mw-redirect\" href=\"/wiki/WorldCat_Identities_(identifier)\" title=\"WorldCat Identities (identifier)\">WorldCat Identities</a>,\n <a href=\"/wiki/Help:Category\" title=\"Help:Category\">Categories</a>,\n <a href=\"/wiki/Category:1851_births\" title=\"Category:1851 births\">1851 births</a>,\n <a href=\"/wiki/Category:1938_deaths\" title=\"Category:1938 deaths\">1938 deaths</a>,\n <a href=\"/wiki/Category:People_from_Newport,_Rhode_Island\" title=\"Category:People from Newport, Rhode Island\">People from Newport, Rhode Island</a>,\n <a href=\"/wiki/Category:African-American_Baptist_ministers\" title=\"Category:African-American Baptist ministers\">African-American Baptist ministers</a>,\n <a href=\"/wiki/Category:Baptist_ministers_from_the_United_States\" title=\"Category:Baptist ministers from the United States\">Baptist ministers from the United States</a>,\n <a href=\"/wiki/Category:Activists_for_African-American_civil_rights\" title=\"Category:Activists for African-American civil rights\">Activists for African-American civil rights</a>,\n <a href=\"/wiki/Category:People_from_Charlotte_County,_Virginia\" title=\"Category:People from Charlotte County, Virginia\">People from Charlotte County, Virginia</a>,\n <a href=\"/wiki/Category:No_local_image_but_image_on_Wikidata\" title=\"Category:No local image but image on Wikidata\">No local image but image on Wikidata</a>,\n <a href=\"/wiki/Category:Articles_with_hCards\" title=\"Category:Articles with hCards\">Articles with hCards</a>,\n <a href=\"/wiki/Category:Wikipedia_articles_with_ISNI_identifiers\" title=\"Category:Wikipedia articles with ISNI identifiers\">Wikipedia articles with ISNI identifiers</a>,\n <a href=\"/wiki/Category:Wikipedia_articles_with_LCCN_identifiers\" title=\"Category:Wikipedia articles with LCCN identifiers\">Wikipedia articles with LCCN identifiers</a>,\n <a href=\"/wiki/Category:Wikipedia_articles_with_VIAF_identifiers\" title=\"Category:Wikipedia articles with VIAF identifiers\">Wikipedia articles with VIAF identifiers</a>,\n <a href=\"/wiki/Category:Wikipedia_articles_with_WORLDCATID_identifiers\" title=\"Category:Wikipedia articles with WORLDCATID identifiers\">Wikipedia articles with WORLDCATID identifiers</a>,\n <a accesskey=\"n\" href=\"/wiki/Special:MyTalk\" title=\"Discussion about edits from this IP address [n]\">Talk</a>,\n <a accesskey=\"y\" href=\"/wiki/Special:MyContributions\" title=\"A list of edits made from this IP address [y]\">Contributions</a>,\n <a accesskey=\"c\" href=\"/wiki/Henry_N._Jeter\" title=\"View the content page [c]\">Article</a>,\n <a accesskey=\"t\" href=\"/wiki/Talk:Henry_N._Jeter\" rel=\"discussion\" title=\"Discuss improvements to the content page [t]\">Talk</a>,\n <a href=\"/wiki/Henry_N._Jeter\">Read</a>,\n <a class=\"mw-wiki-logo\" href=\"/wiki/Main_Page\" title=\"Visit the main page\"></a>,\n <a accesskey=\"z\" href=\"/wiki/Main_Page\" title=\"Visit the main page [z]\">Main page</a>,\n <a href=\"/wiki/Wikipedia:Contents\" title=\"Guides to browsing Wikipedia\">Contents</a>,\n <a href=\"/wiki/Portal:Current_events\" title=\"Articles related to current events\">Current events</a>,\n <a accesskey=\"x\" href=\"/wiki/Special:Random\" title=\"Visit a randomly selected article [x]\">Random article</a>,\n <a href=\"/wiki/Wikipedia:About\" title=\"Learn about Wikipedia and how it works\">About Wikipedia</a>,\n <a href=\"//en.wikipedia.org/wiki/Wikipedia:Contact_us\" title=\"How to contact Wikipedia\">Contact us</a>,\n <a href=\"https://donate.wikimedia.org/wiki/Special:FundraiserRedirector?utm_source=donate&amp;utm_medium=sidebar&amp;utm_campaign=C13_en.wikipedia.org&amp;uselang=en\" title=\"Support us by donating to the Wikimedia Foundation\">Donate</a>,\n <a href=\"/wiki/Help:Contents\" title=\"Guidance on how to use and edit Wikipedia\">Help</a>,\n <a href=\"/wiki/Help:Introduction\" title=\"Learn how to edit Wikipedia\">Learn to edit</a>,\n <a href=\"/wiki/Wikipedia:Community_portal\" title=\"The hub for editors\">Community portal</a>,\n <a accesskey=\"r\" href=\"/wiki/Special:RecentChanges\" title=\"A list of recent changes to Wikipedia [r]\">Recent changes</a>,\n <a href=\"/wiki/Wikipedia:File_Upload_Wizard\" title=\"Add images or other media for use on Wikipedia\">Upload file</a>,\n <a accesskey=\"j\" href=\"/wiki/Special:WhatLinksHere/Henry_N._Jeter\" title=\"List of all English Wikipedia pages containing links to this page [j]\">What links here</a>,\n <a accesskey=\"k\" href=\"/wiki/Special:RecentChangesLinked/Henry_N._Jeter\" rel=\"nofollow\" title=\"Recent changes in pages linked from this page [k]\">Related changes</a>,\n <a accesskey=\"u\" href=\"/wiki/Wikipedia:File_Upload_Wizard\" title=\"Upload files [u]\">Upload file</a>,\n <a accesskey=\"q\" href=\"/wiki/Special:SpecialPages\" title=\"A list of all special pages [q]\">Special pages</a>,\n <a accesskey=\"g\" href=\"https://www.wikidata.org/wiki/Special:EntityPage/Q27710186\" title=\"Structured data on this page hosted by Wikidata [g]\">Wikidata item</a>,\n <a class=\"wbc-editpage\" href=\"https://www.wikidata.org/wiki/Special:EntityPage/Q27710186#sitelinks-wikipedia\" title=\"Add interlanguage links\">Add links</a>,\n <a href=\"//en.wikipedia.org/wiki/Wikipedia:Text_of_Creative_Commons_Attribution-ShareAlike_3.0_Unported_License\" rel=\"license\">Creative Commons Attribution-ShareAlike License</a>,\n <a href=\"//foundation.wikimedia.org/wiki/Terms_of_Use\">Terms of Use</a>,\n <a href=\"//foundation.wikimedia.org/wiki/Privacy_policy\">Privacy Policy</a>,\n <a class=\"extiw\" href=\"https://foundation.wikimedia.org/wiki/Privacy_policy\" title=\"wmf:Privacy policy\">Privacy policy</a>,\n <a href=\"/wiki/Wikipedia:About\" title=\"Wikipedia:About\">About Wikipedia</a>,\n <a href=\"/wiki/Wikipedia:General_disclaimer\" title=\"Wikipedia:General disclaimer\">Disclaimers</a>,\n <a href=\"//en.wikipedia.org/wiki/Wikipedia:Contact_us\">Contact Wikipedia</a>,\n <a href=\"https://www.mediawiki.org/wiki/Special:MyLanguage/How_to_contribute\">Developers</a>,\n <a href=\"https://foundation.wikimedia.org/wiki/Cookie_statement\">Cookie statement</a>]"
     },
     "execution_count": 83,
     "metadata": {},
     "output_type": "execute_result"
    }
   ],
   "source": [
    "soup.find_all(href=re.compile('/wiki/\\S'))"
   ],
   "metadata": {
    "collapsed": false,
    "pycharm": {
     "name": "#%%\n"
    }
   }
  },
  {
   "cell_type": "code",
   "execution_count": 100,
   "outputs": [
    {
     "data": {
      "text/plain": "<title>Henry N. Jeter - Wikipedia</title>"
     },
     "execution_count": 100,
     "metadata": {},
     "output_type": "execute_result"
    }
   ],
   "source": [
    "soup.title"
   ],
   "metadata": {
    "collapsed": false,
    "pycharm": {
     "name": "#%%\n"
    }
   }
  },
  {
   "cell_type": "code",
   "execution_count": 103,
   "outputs": [
    {
     "name": "stdout",
     "output_type": "stream",
     "text": [
      "5\n"
     ]
    }
   ],
   "source": [
    "@dataclass\n",
    "class Test:\n",
    "    name: str\n",
    "    value: int = 0\n",
    "\n",
    "item = Test(\"moi\",5)\n",
    "print(item.value)"
   ],
   "metadata": {
    "collapsed": false,
    "pycharm": {
     "name": "#%%\n"
    }
   }
  },
  {
   "cell_type": "code",
   "execution_count": 105,
   "outputs": [
    {
     "ename": "NameError",
     "evalue": "name 'G' is not defined",
     "output_type": "error",
     "traceback": [
      "\u001B[1;31m---------------------------------------------------------------------------\u001B[0m",
      "\u001B[1;31mNameError\u001B[0m                                 Traceback (most recent call last)",
      "\u001B[1;32m<ipython-input-105-96e89ba817df>\u001B[0m in \u001B[0;36m<module>\u001B[1;34m\u001B[0m\n\u001B[1;32m----> 1\u001B[1;33m \u001B[0mG\u001B[0m\u001B[1;33m\u001B[0m\u001B[1;33m\u001B[0m\u001B[0m\n\u001B[0m",
      "\u001B[1;31mNameError\u001B[0m: name 'G' is not defined"
     ]
    }
   ],
   "source": [
    "G"
   ],
   "metadata": {
    "collapsed": false,
    "pycharm": {
     "name": "#%%\n"
    }
   }
  },
  {
   "cell_type": "code",
   "execution_count": null,
   "outputs": [],
   "source": [],
   "metadata": {
    "collapsed": false,
    "pycharm": {
     "name": "#%%\n"
    }
   }
  }
 ],
 "metadata": {
  "kernelspec": {
   "display_name": "Python 3",
   "language": "python",
   "name": "python3"
  },
  "language_info": {
   "codemirror_mode": {
    "name": "ipython",
    "version": 2
   },
   "file_extension": ".py",
   "mimetype": "text/x-python",
   "name": "python",
   "nbconvert_exporter": "python",
   "pygments_lexer": "ipython2",
   "version": "2.7.6"
  }
 },
 "nbformat": 4,
 "nbformat_minor": 0
}